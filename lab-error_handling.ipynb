{
 "cells": [
  {
   "cell_type": "markdown",
   "metadata": {},
   "source": [
    "# LAB | Error Handling in Python\n",
    "\n",
    "## Overview\n",
    "This exercise notebook will help you practice error handling in Python using exceptions. You will write programs that handle various types of exceptions to ensure your code runs smoothly and handles errors gracefully."
   ]
  },
  {
   "cell_type": "markdown",
   "metadata": {},
   "source": [
    "### Exercise 1: Handle ZeroDivisionError\n",
    "Write a Python program to handle a `ZeroDivisionError` exception when dividing a number by zero.\n"
   ]
  },
  {
   "cell_type": "code",
   "execution_count": 20,
   "metadata": {},
   "outputs": [],
   "source": [
    "def division(a, b):\n",
    "    try:\n",
    "        if b == 0:\n",
    "            raise ValueError(\"You can't device by zero!\")\n",
    "        x = a / b\n",
    "        return x\n",
    "    except ValueError as error:\n",
    "        print(f\"Error: {error}\")"
   ]
  },
  {
   "cell_type": "code",
   "execution_count": 23,
   "metadata": {},
   "outputs": [
    {
     "name": "stdout",
     "output_type": "stream",
     "text": [
      "Error: You can't device by zero!\n"
     ]
    }
   ],
   "source": [
    "division(2,0)"
   ]
  },
  {
   "cell_type": "markdown",
   "metadata": {},
   "source": [
    "\n",
    "### Exercise 2: Raise ValueError for Invalid Input\n",
    "Write a Python program that prompts the user to input an integer and raises a `ValueError` exception if the input is not a valid integer.\n",
    "\n"
   ]
  },
  {
   "cell_type": "code",
   "execution_count": 24,
   "metadata": {},
   "outputs": [],
   "source": [
    "def double(n):\n",
    "    try:\n",
    "        if not isinstance(n, int):\n",
    "            raise ValueError(\"Please enter an integer\")\n",
    "        result = n * 2\n",
    "        return result\n",
    "    except ValueError as error:\n",
    "        print(f\"Error: {error}\")"
   ]
  },
  {
   "cell_type": "code",
   "execution_count": 25,
   "metadata": {},
   "outputs": [
    {
     "name": "stdout",
     "output_type": "stream",
     "text": [
      "Error: Please enter an integer\n"
     ]
    }
   ],
   "source": [
    "double(\"hola\")"
   ]
  },
  {
   "cell_type": "markdown",
   "metadata": {},
   "source": [
    "\n",
    "\n",
    "### Exercise 3: Handle FileNotFoundError\n",
    "Write a Python program that opens a file and handles a `FileNotFoundError` exception if the file does not exist.\n",
    "\n"
   ]
  },
  {
   "cell_type": "code",
   "execution_count": 27,
   "metadata": {},
   "outputs": [],
   "source": [
    "def find_errors_in_file(filepath):\n",
    "    try:\n",
    "        with open(\"synthetic_log.txt\") as file:\n",
    "            errors = (1 for line in file if \"ERROR\" in line)\n",
    "            print(sum(errors))\n",
    "    except FileNotFoundError:\n",
    "        print(\"File not found, please use the function with an existing file\")"
   ]
  },
  {
   "cell_type": "code",
   "execution_count": 28,
   "metadata": {},
   "outputs": [
    {
     "name": "stdout",
     "output_type": "stream",
     "text": [
      "File not found, please use the function with an existing file\n"
     ]
    }
   ],
   "source": [
    "find_errors_in_file(\"synthetic_log.txt\")"
   ]
  },
  {
   "cell_type": "markdown",
   "metadata": {},
   "source": [
    "\n",
    "\n",
    "### Exercise 4: Raise TypeError for Non-Numerical Input\n",
    "Write a Python program that prompts the user to input two numbers and raises a `TypeError` exception if the inputs are not numerical.\n",
    "\n"
   ]
  },
  {
   "cell_type": "code",
   "execution_count": 29,
   "metadata": {},
   "outputs": [],
   "source": [
    "def division(a, b):\n",
    "    try:\n",
    "        if not a.isnumeric() or not b.isnumeric():\n",
    "            raise TypeError(\"Please enter a number!\")\n",
    "        if b == 0:\n",
    "            raise ValueError(\"You can't device by zero!\")\n",
    "        x = a / b\n",
    "        return x\n",
    "    except ValueError as ve:\n",
    "        print(f\"Error: {ve}\")\n",
    "    except TypeError as te:\n",
    "        print(f\"Error: {te}\")"
   ]
  },
  {
   "cell_type": "code",
   "execution_count": 30,
   "metadata": {},
   "outputs": [
    {
     "name": "stdout",
     "output_type": "stream",
     "text": [
      "Error: Please enter a number!\n"
     ]
    }
   ],
   "source": [
    "division(\"hola\",2)"
   ]
  },
  {
   "cell_type": "markdown",
   "metadata": {},
   "source": [
    "\n",
    "\n",
    "### Exercise 5: Handle PermissionError\n",
    "Write a Python program that opens a file and handles a `PermissionError` exception if there is a permission issue.\n",
    "\n",
    "\n"
   ]
  },
  {
   "cell_type": "code",
   "execution_count": null,
   "metadata": {},
   "outputs": [],
   "source": [
    "def find_errors_in_file(filepath):\n",
    "    try:\n",
    "        with open(\"synthetic_log.txt\") as file:\n",
    "            errors = (1 for line in file if \"ERROR\" in line)\n",
    "            print(sum(errors))\n",
    "    except FileNotFoundError:\n",
    "        print(\"File not found, please use the function with an existing file.\")\n",
    "    except PermissionError:\n",
    "        print(\"You don't have permission to open this file.\")"
   ]
  },
  {
   "cell_type": "markdown",
   "metadata": {},
   "source": [
    "\n",
    "\n",
    "### Exercise 6: Handle IndexError in List Operations\n",
    "Write a Python program that executes an operation on a list and handles an `IndexError` exception if the index is out of range.\n",
    "\n",
    "\n"
   ]
  },
  {
   "cell_type": "code",
   "execution_count": 45,
   "metadata": {},
   "outputs": [],
   "source": [
    "def access_list_value(lst, index):\n",
    "    try:\n",
    "        if index > len(lst) - 1:\n",
    "            raise IndexError(f\"List has {len(lst)} values, can't access index {index}.\")\n",
    "        return lst[index]\n",
    "    except IndexError as ie:\n",
    "        print(f\"Error: {ie}\")"
   ]
  },
  {
   "cell_type": "code",
   "execution_count": 46,
   "metadata": {},
   "outputs": [
    {
     "name": "stdout",
     "output_type": "stream",
     "text": [
      "Error: List has 2 values, can't access index 2.\n"
     ]
    }
   ],
   "source": [
    "access_list_value([1,2],2)"
   ]
  },
  {
   "cell_type": "markdown",
   "metadata": {},
   "source": [
    "\n",
    "\n",
    "### Exercise 7: Handle KeyboardInterrupt Exception\n",
    "Write a Python program that prompts the user to input a number and handles a `KeyboardInterrupt` exception if the user cancels the input.\n",
    "\n"
   ]
  },
  {
   "cell_type": "code",
   "execution_count": null,
   "metadata": {},
   "outputs": [],
   "source": [
    "def forever_hi():\n",
    "    try:\n",
    "        while True:\n",
    "            print(\"hi\")\n",
    "    except KeyboardInterrupt:\n",
    "        print(\"Program has been manually stopped\")"
   ]
  },
  {
   "cell_type": "markdown",
   "metadata": {},
   "source": [
    "\n",
    "\n",
    "### Exercise 8: Handle ArithmeticError\n",
    "Write a Python program that executes division and handles an `ArithmeticError` exception if there is an arithmetic error.\n",
    "\n"
   ]
  },
  {
   "cell_type": "code",
   "execution_count": 47,
   "metadata": {},
   "outputs": [],
   "source": [
    "def division(a, b):\n",
    "    try:\n",
    "        x = a / b\n",
    "        return x\n",
    "    except ArithmeticError:\n",
    "        print(\"Error in calculation.\")"
   ]
  },
  {
   "cell_type": "code",
   "execution_count": 48,
   "metadata": {},
   "outputs": [
    {
     "name": "stdout",
     "output_type": "stream",
     "text": [
      "Error in calculation.\n"
     ]
    }
   ],
   "source": [
    "division(1,0)"
   ]
  },
  {
   "cell_type": "markdown",
   "metadata": {},
   "source": [
    "\n",
    "\n",
    "### Exercise 9: Handle UnicodeDecodeError\n",
    "Write a Python program that opens a file and handles a `UnicodeDecodeError` exception if there is an encoding issue.\n",
    "\n"
   ]
  },
  {
   "cell_type": "code",
   "execution_count": null,
   "metadata": {},
   "outputs": [],
   "source": [
    "def find_errors_in_file(filepath):\n",
    "    try:\n",
    "        with open(\"synthetic_log.txt\") as file:\n",
    "            errors = (1 for line in file if \"ERROR\" in line)\n",
    "            print(sum(errors))\n",
    "    except FileNotFoundError:\n",
    "        print(\"File not found, please use the function with an existing file.\")\n",
    "    except PermissionError:\n",
    "        print(\"You don't have permission to open this file.\")\n",
    "    except UnicodeDecodeError:\n",
    "        print(\"File couldn't be read.\")"
   ]
  },
  {
   "cell_type": "markdown",
   "metadata": {},
   "source": [
    "\n",
    "\n",
    "### Exercise 10: Handle AttributeError\n",
    "Write a Python program that executes an operation on an object and handles an `AttributeError` exception if the attribute does not exist.\n",
    "\n"
   ]
  },
  {
   "cell_type": "code",
   "execution_count": 49,
   "metadata": {},
   "outputs": [],
   "source": [
    "def append_to(lst, value):\n",
    "    try:\n",
    "        if not isinstance(lst, list):\n",
    "            raise AttributeError(\"Usage: appent_to(list, new_value)\")\n",
    "        lst.append(value)\n",
    "    except AttributeError as ae:\n",
    "        print(f\"Error! {ae}\")"
   ]
  },
  {
   "cell_type": "code",
   "execution_count": 53,
   "metadata": {},
   "outputs": [
    {
     "data": {
      "text/plain": [
       "[1, 2]"
      ]
     },
     "execution_count": 53,
     "metadata": {},
     "output_type": "execute_result"
    }
   ],
   "source": [
    "lst1 = [1]\n",
    "append_to(lst1, 2)\n",
    "lst1"
   ]
  },
  {
   "cell_type": "code",
   "execution_count": 54,
   "metadata": {},
   "outputs": [
    {
     "name": "stdout",
     "output_type": "stream",
     "text": [
      "Error! Usage: appent_to(list, new_value)\n"
     ]
    }
   ],
   "source": [
    "notalist = 42\n",
    "append_to(notalist, 42)"
   ]
  },
  {
   "cell_type": "markdown",
   "metadata": {},
   "source": [
    "\n",
    "\n",
    "## Bonus Exercises\n",
    "\n",
    "### Bonus Exercise 1: Handle Multiple Exceptions\n",
    "Write a Python program that demonstrates handling multiple exceptions in one block.\n",
    "\n",
    "\n"
   ]
  },
  {
   "cell_type": "code",
   "execution_count": 6,
   "metadata": {},
   "outputs": [],
   "source": [
    "def find_errors_in_file(filepath):\n",
    "    try:\n",
    "        with open(\"synthetic_log.txt\") as file:\n",
    "            errors = (1 for line in file if \"ERROR\" in line)\n",
    "            print(sum(errors))\n",
    "    except FileNotFoundError:\n",
    "        print(\"File not found, please use the function with an existing file.\")\n",
    "    except PermissionError:\n",
    "        print(\"You don't have permission to open this file.\")\n",
    "    except UnicodeDecodeError:\n",
    "        print(\"File couldn't be read.\")"
   ]
  },
  {
   "cell_type": "markdown",
   "metadata": {},
   "source": [
    "\n",
    "\n",
    "### Bonus Exercise 2: Create Custom Exception\n",
    "Create a custom exception class and raise it in your code when certain conditions are met.\n",
    "\n",
    "\n"
   ]
  },
  {
   "cell_type": "code",
   "execution_count": null,
   "metadata": {},
   "outputs": [],
   "source": [
    "def append_to(lst, value):\n",
    "    try:\n",
    "        if not isinstance(lst, list):\n",
    "            raise AttributeError(\"Usage: appent_to(list, new_value)\")\n",
    "        lst.append(value)\n",
    "    except AttributeError as ae:\n",
    "        print(f\"Error! {ae}\")"
   ]
  },
  {
   "cell_type": "markdown",
   "metadata": {},
   "source": [
    "\n",
    "\n",
    "### Bonus Exercise 3: Validate User Input with Exception Handling\n",
    "Write a program that repeatedly prompts the user for valid input until they provide it, using exception handling to manage invalid inputs.\n",
    "\n"
   ]
  },
  {
   "cell_type": "code",
   "execution_count": null,
   "metadata": {},
   "outputs": [],
   "source": [
    "# Your code here"
   ]
  },
  {
   "cell_type": "markdown",
   "metadata": {},
   "source": [
    "\n",
    "\n",
    "### Bonus Exercise 4: Log Errors to File\n",
    "Modify your error handling to log errors to a text file instead of printing them to the console.\n",
    "\n"
   ]
  },
  {
   "cell_type": "code",
   "execution_count": 10,
   "metadata": {},
   "outputs": [],
   "source": [
    "# Your code here"
   ]
  },
  {
   "cell_type": "markdown",
   "metadata": {},
   "source": [
    "\n",
    "\n",
    "### Bonus Exercise 5: Retry Logic on Exception\n",
    "Implement retry logic for operations that could fail, allowing users to try again after encountering an error.\n",
    "\n"
   ]
  },
  {
   "cell_type": "code",
   "execution_count": null,
   "metadata": {},
   "outputs": [],
   "source": [
    "# Your code here"
   ]
  }
 ],
 "metadata": {
  "kernelspec": {
   "display_name": "Python [conda env:base] *",
   "language": "python",
   "name": "conda-base-py"
  },
  "language_info": {
   "codemirror_mode": {
    "name": "ipython",
    "version": 3
   },
   "file_extension": ".py",
   "mimetype": "text/x-python",
   "name": "python",
   "nbconvert_exporter": "python",
   "pygments_lexer": "ipython3",
   "version": "3.12.7"
  }
 },
 "nbformat": 4,
 "nbformat_minor": 4
}
